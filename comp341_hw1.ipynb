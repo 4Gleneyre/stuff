{
  "nbformat": 4,
  "nbformat_minor": 0,
  "metadata": {
    "colab": {
      "provenance": [],
      "include_colab_link": true
    },
    "kernelspec": {
      "name": "python3",
      "display_name": "Python 3"
    },
    "language_info": {
      "name": "python"
    }
  },
  "cells": [
    {
      "cell_type": "markdown",
      "metadata": {
        "id": "view-in-github",
        "colab_type": "text"
      },
      "source": [
        "<a href=\"https://colab.research.google.com/github/4Gleneyre/stuff/blob/main/comp341_hw1.ipynb\" target=\"_parent\"><img src=\"https://colab.research.google.com/assets/colab-badge.svg\" alt=\"Open In Colab\"/></a>"
      ]
    },
    {
      "cell_type": "markdown",
      "source": [
        "## COMP 341: Practical Machine Learning\n",
        "## Homework assignment 1: exploring baby names\n",
        "\n",
        "### Due: Tuesday, September 5 at 11:59pm on Gradescope"
      ],
      "metadata": {
        "id": "p9akMLVMhMEZ"
      }
    },
    {
      "cell_type": "markdown",
      "source": [
        "The goal of this homework is to analyze the baby name data from the US Social Security Agency. We will explore various facets of the data and see if there is enough information to predict a person's age given only their first name. While we will not be using an ML model just yet, we will use data science skills to explore interesting patterns.\n",
        "\n",
        "Fill in the missing code following `# TODO:` comments or `####### YOUR CODE HERE ########` blocks and be sure to answer the short answer questions marked with `[WRITE YOUR ANSWER HERE]` in the text.\n",
        "\n",
        "All code in this notebook needs to be able to be run sequentially, so make sure things work in order! Be sure to also use good coding practices (e.g., logical variable names, comments as needed, etc), and make plots that are clear and readable (e.g., with legible axes).\n",
        "\n",
        "For this assignment, there will be **15 points** allocated for general coding points:\n",
        "* **10 points** for coding style\n",
        "* **5 points** for code flow (accurate results when everything is run sequentially)\n",
        "\n",
        "**Important note:** For this assignment only, since we are learning to use pandas methods, you *should not* use loops after you have constructed your DataFrame in the assignment (from Part 1 onwards). If you have to use a loop to solve one of the questions, it will result in a -50% deduction for that particular question."
      ],
      "metadata": {
        "id": "23nsLhnlhREv"
      }
    },
    {
      "cell_type": "markdown",
      "source": [
        "### Setup"
      ],
      "metadata": {
        "id": "DK-qfKpjhaYs"
      }
    },
    {
      "cell_type": "markdown",
      "source": [
        "First, we need to import some libraries that are necessary to complete the assignment."
      ],
      "metadata": {
        "id": "cElQh4NXhe1c"
      }
    },
    {
      "cell_type": "code",
      "execution_count": null,
      "metadata": {
        "id": "Df9aQICMg-cd"
      },
      "outputs": [],
      "source": [
        "import pandas as pd\n",
        "import numpy as np"
      ]
    },
    {
      "cell_type": "markdown",
      "source": [
        "Here, we have also suggested some other modules/libraries to import that can make your life easier:\n",
        "*   [glob](https://docs.python.org/3/library/glob.html) is useful for pattern-based pathname expansion, which can come in handy when reading in the data\n",
        "\n",
        "Feel free to also add your own here (rather than wherever you first use them below). For example, you will likely need to import a plotting library (e.g., plotnine, seaborn)"
      ],
      "metadata": {
        "id": "X9rl4hTXhiOh"
      }
    },
    {
      "cell_type": "code",
      "source": [
        "import glob"
      ],
      "metadata": {
        "id": "0ay2qWMSh7T3"
      },
      "execution_count": null,
      "outputs": []
    },
    {
      "cell_type": "markdown",
      "source": [
        "### Part 0: Read in Data [10 pts]\n",
        "\n",
        "Run the following code that uses common command line tools (jupyter knows that it is command line and not python based on the `!` at the beginning of the command) to download and unzip the national data linked on the [SSA website](https://www.ssa.gov/oact/babynames/limits.html) into your workspace."
      ],
      "metadata": {
        "id": "kaWxWzawiJgz"
      }
    },
    {
      "cell_type": "code",
      "source": [
        "# downloading the data\n",
        "!wget https://www.ssa.gov/oact/babynames/names.zip\n",
        "# unzipping the data quietly to a \"names\" directory\n",
        "!unzip -qo names.zip -d names"
      ],
      "metadata": {
        "id": "EWkm8VZAiLyb"
      },
      "execution_count": null,
      "outputs": []
    },
    {
      "cell_type": "markdown",
      "source": [
        "Now, we first need to check how the SSA has structured their data by looking at what we have unzipped. (Remember you need the `!` at the beginning of the command to denote that it is command line and not a python command.)"
      ],
      "metadata": {
        "id": "FTb0wrRliOur"
      }
    },
    {
      "cell_type": "code",
      "source": [
        "# TODO: use the command line to list the contents of the \"names\" directory [1 pt]\n"
      ],
      "metadata": {
        "id": "_uyMjYweiPpl"
      },
      "execution_count": null,
      "outputs": []
    },
    {
      "cell_type": "markdown",
      "source": [
        "The included `NationalReadMe.pdf` file describes how the data is organized. We have taken the liberty of summarizing the main points:\n",
        "* data for each year is included as a separate file and clearly indicated in the filename\n",
        "* the data spans all years between 1880-2022\n",
        "* each file is comma-delimited\n",
        "* each row provides a baby name, whether the name was given to a male (M) or female (F) baby, and corresponding number of births for that year\n",
        "* only names with at least 5 births for the corresponding year is listed in its file (for privacy reasons)\n",
        "\n",
        "We can quickly take a look at the top of the file for baby names in 1880."
      ],
      "metadata": {
        "id": "DlGH2lYfiUnc"
      }
    },
    {
      "cell_type": "code",
      "source": [
        "# TODO: use the command line to check the top of the file of baby names from 1880 [1 pt]\n"
      ],
      "metadata": {
        "id": "Zv3bcB4OiYLL"
      },
      "execution_count": null,
      "outputs": []
    },
    {
      "cell_type": "markdown",
      "source": [
        "And also peruse the bottom of the file for baby names in 2022."
      ],
      "metadata": {
        "id": "Gkph55GEikxX"
      }
    },
    {
      "cell_type": "code",
      "source": [
        "# TODO: use the command line to check the bottom of the file of baby names from 2022 [1 pt]\n"
      ],
      "metadata": {
        "id": "h2-8fiwHilMd"
      },
      "execution_count": null,
      "outputs": []
    },
    {
      "cell_type": "markdown",
      "source": [
        "Now that we have a reasonably good understanding of how the data is structured, it is time to read in the data from all of the different years and combine everything into a single pandas DataFrame for further analysis.\n",
        "\n",
        "Remember to use intuitive column names and that we also need a column to keep track of the year the data came from!"
      ],
      "metadata": {
        "id": "NmfE9-Y_iwFJ"
      }
    },
    {
      "cell_type": "code",
      "source": [
        "# TODO: read in data from all years into a single DataFrame [5 pts]\n"
      ],
      "metadata": {
        "id": "LswD62dNixnb"
      },
      "execution_count": null,
      "outputs": []
    },
    {
      "cell_type": "markdown",
      "source": [
        "**Short Answer Question:** Is this dataset tidy? Why or why not? [2 pts]"
      ],
      "metadata": {
        "id": "3uaWQBuJMi4I"
      }
    },
    {
      "cell_type": "markdown",
      "source": [
        "`[WRITE YOUR ANSWER HERE]`"
      ],
      "metadata": {
        "id": "VjKInCQ7MwSQ"
      }
    },
    {
      "cell_type": "markdown",
      "source": [
        "### Part 1: Sanity Checks [5 pts]\n",
        "\n",
        "A good habit to get into is checking your DataFrames; evaluating if they match expectation early and often can help you spot errors before they pop up later. Here, check the size of your DataFrame and look at the top and bottom of your DataFrame."
      ],
      "metadata": {
        "id": "YkSnEAjhjQNM"
      }
    },
    {
      "cell_type": "code",
      "source": [
        "# TODO: use pandas to check the dimensions of the DataFrame [1 pt]\n"
      ],
      "metadata": {
        "id": "b8xyftPujkKz"
      },
      "execution_count": null,
      "outputs": []
    },
    {
      "cell_type": "code",
      "source": [
        "# TODO: use pandas to check the top of the DataFrame [1 pt]\n"
      ],
      "metadata": {
        "id": "y24VitM4jq_0"
      },
      "execution_count": null,
      "outputs": []
    },
    {
      "cell_type": "code",
      "source": [
        "# TODO: use pandas to check the bottom of the DataFrame [1 pt]\n"
      ],
      "metadata": {
        "id": "82YoF-Rrjt0D"
      },
      "execution_count": null,
      "outputs": []
    },
    {
      "cell_type": "code",
      "source": [
        "# TODO: use pandas to look at the top 10 most popular baby names in the year 2000 [2 pts]\n"
      ],
      "metadata": {
        "id": "fM_81fiJ3Z-E"
      },
      "execution_count": null,
      "outputs": []
    },
    {
      "cell_type": "markdown",
      "source": [
        "### Part 2: Search for General Patterns [10 pts]\n",
        "\n",
        "Let's check out this baby data in the most general way possible, the total number of births per year. In other words, we'll take a look at population growth trends across time.\n",
        "\n",
        "We will do this by plotting the number of births for each year represented in our data (1880-2022), with different colors for the sex of the baby.\n",
        "\n",
        "Make sure that your axes are labeled clearly, the figure is sized appropriately, and in general, that your figure makes it easy to examine the number of births for any particular year of interest (one key component of this is the density of your tick labels)."
      ],
      "metadata": {
        "id": "7ybn0-7ckA-p"
      }
    },
    {
      "cell_type": "code",
      "source": [
        "# TODO: taking the DataFrame from Part 0-1, build a new DataFrame that\n",
        "# has the total number of births in that year (regardless of name)\n",
        "# and display the resultant DataFrame [2 pts]\n"
      ],
      "metadata": {
        "id": "k7qbi37l1fq2"
      },
      "execution_count": null,
      "outputs": []
    },
    {
      "cell_type": "code",
      "source": [
        "# TODO: in a single figure, plot total births each year by sex (Male/Female),\n",
        "# with sex represented by color [5 pts]\n"
      ],
      "metadata": {
        "id": "kSNDkh7JkaPm"
      },
      "execution_count": null,
      "outputs": []
    },
    {
      "cell_type": "markdown",
      "source": [
        "**Short Answer Question:** Do you notice any interesting patterns across years? Do they relate to historical events? [3 pts]"
      ],
      "metadata": {
        "id": "XBBrq_kPkgmI"
      }
    },
    {
      "cell_type": "markdown",
      "source": [
        "`[WRITE YOUR ANSWER HERE]`\n"
      ],
      "metadata": {
        "id": "VsmjuLkGki9M"
      }
    },
    {
      "cell_type": "markdown",
      "source": [
        "### Part 3: Sex-associated biases in names [60 pts]\n",
        "\n",
        "There are so many interesting questions we can explore using this baby names dataset. One of these is the trends of sex biases in baby names: are certain names more often male-associated, female-associated, or assigned to both male and female babies (more \"neutral\")? Do these trends change over time?\n",
        "\n",
        "To explore this question, we will some more DataFrame manipulations and visualize some of the most popular \"biased\" and \"neutral\" names."
      ],
      "metadata": {
        "id": "V1TKiFqboZsT"
      }
    },
    {
      "cell_type": "code",
      "source": [
        "# TODO: manipulate your original DataFrame of all data so that for each name,\n",
        "# there is one column each for the # female and # male babies born per year [2 pts]\n"
      ],
      "metadata": {
        "id": "DZUp_qftNBMH"
      },
      "execution_count": null,
      "outputs": []
    },
    {
      "cell_type": "code",
      "source": [
        "# TODO: what is the shape of your new DataFrame? [1 pt]\n"
      ],
      "metadata": {
        "id": "WdH17eKTTxza"
      },
      "execution_count": null,
      "outputs": []
    },
    {
      "cell_type": "markdown",
      "source": [
        "**Short Answer Question:** The number of rows in your new DataFrame should be different from what you found in your original one in Part 1.\n",
        "\n",
        "What is the difference? Explain what this difference tells you about the naming patterns of male and female babies in the US. [3 pts]"
      ],
      "metadata": {
        "id": "QQEeTRffUBI-"
      }
    },
    {
      "cell_type": "markdown",
      "source": [
        "`[WRITE YOUR ANSWER HERE]`\n"
      ],
      "metadata": {
        "id": "KOyBj1cVUXBo"
      }
    },
    {
      "cell_type": "code",
      "source": [
        "# TODO: if there is a year where no babies of a particular sex was born,\n",
        "# make sure those cases record a baby count of 0 (instead of a missing value) [1 pt]\n"
      ],
      "metadata": {
        "id": "0P6hwv3ETm9I"
      },
      "execution_count": null,
      "outputs": []
    },
    {
      "cell_type": "code",
      "source": [
        "# TODO: check to see if the table looks correct by checking how many\n",
        "# \"Lily\"s were born in 1900 [1 pt]\n"
      ],
      "metadata": {
        "id": "zerb3VBAP2ZC"
      },
      "execution_count": null,
      "outputs": []
    },
    {
      "cell_type": "markdown",
      "source": [
        "Since our dataset includes all names with at least 5 people born with that name per year, there are some very niche names. We want to filter out some of the most uncommon names from our downstream exploration."
      ],
      "metadata": {
        "id": "dl_Bo3HtXsJo"
      }
    },
    {
      "cell_type": "code",
      "source": [
        "# TODO: using the DataFrame that you have just constructed here in Part 3,\n",
        "# build a new DataFrame that gives the total number of female and male babies per name\n",
        "# and display this new DataFrame [3 pts]\n",
        "# (hint: this DataFrame should have only 3 columns)\n"
      ],
      "metadata": {
        "id": "po0cNRSZZxGW"
      },
      "execution_count": null,
      "outputs": []
    },
    {
      "cell_type": "code",
      "source": [
        "# TODO: using the 2 DataFrames you have just constructed in Part 3 of the assignment,\n",
        "# make a new DataFrame called `names_filtered`:\n",
        "# names_filtered should have all the individual year level data for female and male babies born,\n",
        "# but only if there were at least 20,000 occurrences of that name within a particular sex across the whole dataset\n",
        "# (i.e., there have been at least 20,000 male or 20,000 female babies that have been given that name) [3 pts]\n"
      ],
      "metadata": {
        "id": "Wkjr3TxGa0rs"
      },
      "execution_count": null,
      "outputs": []
    },
    {
      "cell_type": "markdown",
      "source": [
        "How many names were filtered out?"
      ],
      "metadata": {
        "id": "oVVjIfo2fjYr"
      }
    },
    {
      "cell_type": "code",
      "source": [
        "# TODO: calculate how many total names were filtered out [1 pt]\n"
      ],
      "metadata": {
        "id": "x25n2Dp6flLk"
      },
      "execution_count": null,
      "outputs": []
    },
    {
      "cell_type": "markdown",
      "source": [
        "**Short Answer Question:** Why might we choose to filter out uncommon names based on the whole dataset versus simply choosing a per year threshold for each name? [3 pts]"
      ],
      "metadata": {
        "id": "NHsrUD_QYH3s"
      }
    },
    {
      "cell_type": "markdown",
      "source": [
        "`[WRITE YOUR ANSWER HERE]`\n"
      ],
      "metadata": {
        "id": "T6j158gYYvD2"
      }
    },
    {
      "cell_type": "code",
      "source": [
        "# TODO: add 2 new columns in your filtered DataFrame:\n",
        "# 'total': the total number of births per name per year\n",
        "# 'sex_bias': the proportion of female babies per year\n",
        "# (# female babies given name / total # of babies in that year)\n",
        "# and look at the resultant DataFrame [3 pts]\n"
      ],
      "metadata": {
        "id": "PiELN9o5XYq4"
      },
      "execution_count": null,
      "outputs": []
    },
    {
      "cell_type": "markdown",
      "source": [
        "We will now first explore some naming trends for \"recently popular\" names (as defined by the average popularity within the last 20 years)."
      ],
      "metadata": {
        "id": "QDwNrM2c68jf"
      }
    },
    {
      "cell_type": "code",
      "source": [
        "# TODO: subset your `names_filtered` DataFrame into a `recent_names` DataFrame\n",
        "# that includes only data after 2002 and up through (and including) 2022 [1 pt]\n"
      ],
      "metadata": {
        "id": "RpeGvjMZXyCG"
      },
      "execution_count": null,
      "outputs": []
    },
    {
      "cell_type": "markdown",
      "source": [
        "Now, we will collapse this dataset of the common names from only the last 20 years. Specifically, we will calculate the average number of babies (regardless of sex) assigned that name, as well as the average sex bias ratio."
      ],
      "metadata": {
        "id": "FRikAkRw8fYB"
      }
    },
    {
      "cell_type": "code",
      "source": [
        "# TODO: in one command, calculate the average of the total births and sex bias of births in `recent_names`\n",
        "# and store the resultant DataFrame in a new DataFrame, `recent_names_summ` [2 pts]\n"
      ],
      "metadata": {
        "id": "zO9tKFsBY_gH"
      },
      "execution_count": null,
      "outputs": []
    },
    {
      "cell_type": "code",
      "source": [
        "# TODO: create a new column, `bias_categ` in your `recent_names_summ` DataFrame,\n",
        "# where sex bias categories are defined as:\n",
        "# average sex bias < 0.25 are assigned category 'male'\n",
        "# average sex bias > 0.75 are assigned category 'female'\n",
        "# everything else is assigned category 'neutral'\n",
        "# and display your resultant DataFrame [4 pts]\n"
      ],
      "metadata": {
        "id": "ZXULxJ0m95Qg"
      },
      "execution_count": null,
      "outputs": []
    },
    {
      "cell_type": "markdown",
      "source": [
        "Our next step is to create a DataFrame of the 3 most popular names within each of the \"bias categories\" (male, female, neutral) that we just calculated. The ranking we will use for most popular name is average number of total births within the last 20 years. The 'total' column you calculated earlier can come in handy for this."
      ],
      "metadata": {
        "id": "SsqbpozT_W7O"
      }
    },
    {
      "cell_type": "code",
      "source": [
        "# TODO: make a single `top_recent_names` DataFrame that includes\n",
        "# the top 3 baby names within each bias category (male, female, neutral), for 9 names total\n",
        "# display the resultant DataFrame, where the rows in the same category are displayed together\n",
        "# and the \"most popular\" name within each category is shown first [3 pts]\n",
        "\n",
        "# opportunity for extra credit: can you fulfill all of the requirements of the above\n",
        "# calculations in a single command? [+2 pts]\n"
      ],
      "metadata": {
        "id": "MFuSDUf3bI8O"
      },
      "execution_count": null,
      "outputs": []
    },
    {
      "cell_type": "markdown",
      "source": [
        "With these 9 names (top 3 within each bias category) in hand, we want to go back to our original `names_filtered` DataFrame including data from 1880."
      ],
      "metadata": {
        "id": "kO6z4nw1A1Nq"
      }
    },
    {
      "cell_type": "code",
      "source": [
        "# TODO: look at a subsetted version of the `names_filtered` DataFrame that only includes\n",
        "# the 9 top_recent_names you just calculated in the previous step [1 pt]\n"
      ],
      "metadata": {
        "id": "RpRRu2nWrx7E"
      },
      "execution_count": null,
      "outputs": []
    },
    {
      "cell_type": "code",
      "source": [
        "# TODO: visualize how the 'sex_bias' of the 9 top recent names has changed from 1880-2022\n",
        "# keep in mind the same criteria for clear visualizations mentioned in Part 2 [5 pts]\n"
      ],
      "metadata": {
        "id": "ycEA6T0JqIkG"
      },
      "execution_count": null,
      "outputs": []
    },
    {
      "cell_type": "markdown",
      "source": [
        "**Short Answer Question:** What are some of the conclusions you can draw about the ways in which biases in name assignment change across time? [4 pts]"
      ],
      "metadata": {
        "id": "wLvS-M7pB15u"
      }
    },
    {
      "cell_type": "markdown",
      "source": [
        "`[WRITE YOUR ANSWER HERE]`\n"
      ],
      "metadata": {
        "id": "mepmfOmwCJga"
      }
    },
    {
      "cell_type": "markdown",
      "source": [
        "We will now do the same exercise for \"old\" names, aka names that were popular from 1900-1920 (inclusive)."
      ],
      "metadata": {
        "id": "7itDzCXBCugL"
      }
    },
    {
      "cell_type": "code",
      "source": [
        "# TODO: subset your `names_filtered` DataFrame into an `old_names` DataFrame\n",
        "# that includes only data between the years of 1900 and 1920, including both 1900 and 1920 [1 pt]\n"
      ],
      "metadata": {
        "id": "ZsQWCWnUs3Qp"
      },
      "execution_count": null,
      "outputs": []
    },
    {
      "cell_type": "code",
      "source": [
        "# TODO: just as before, in one command, calculate the average of the total births and sex bias of births in `old_names`\n",
        "# and store the resultant DataFrame in a new DataFrame, `old_names_summ` [2 pts]\n",
        "\n",
        "# then create a new column, 'bias_categ' in your `old_names_summ` DataFrame,\n",
        "# where bias categories are defined as:\n",
        "# average sex bias < 0.25 are assigned category 'male'\n",
        "# average sex bias > 0.75 are assigned category 'female'\n",
        "# everything else is assigned category 'neutral'\n",
        "# and display your resultant DataFrame [4 pts]\n"
      ],
      "metadata": {
        "id": "2sEpFx5RtLjd"
      },
      "execution_count": null,
      "outputs": []
    },
    {
      "cell_type": "code",
      "source": [
        "# TODO: make a single `top_old_names` DataFrame that includes the top 3 baby names within each bias category\n",
        "# \"top 3\" is defined based on the names with highest average total births between 1900-1920\n",
        "# display the resultant DataFrame, where the rows in the same category are displayed together\n",
        "# and the \"most popular\" name within each category is shown first [3 pts]\n"
      ],
      "metadata": {
        "id": "aibjVIkatWak"
      },
      "execution_count": null,
      "outputs": []
    },
    {
      "cell_type": "code",
      "source": [
        "# TODO: visualize how the 'sex_bias' of the 9 top old names has changed from 1880-2022\n",
        "# keep in mind the same criteria for clear visualizations mentioned in Part 2 [5 pts]\n"
      ],
      "metadata": {
        "id": "RaG_VihOt3d9"
      },
      "execution_count": null,
      "outputs": []
    },
    {
      "cell_type": "markdown",
      "source": [
        "**Short Answer Question:** How is this similar or different from what you saw in the trends with top recent names earlier? [4 pts]"
      ],
      "metadata": {
        "id": "vhghb_dvEDPB"
      }
    },
    {
      "cell_type": "markdown",
      "source": [
        "`[WRITE YOUR ANSWER HERE]`\n"
      ],
      "metadata": {
        "id": "Us3G5vaHENXB"
      }
    },
    {
      "cell_type": "markdown",
      "source": [
        "### Bonus: Which baby names stand the test of time? [Extra Credit: up to 8 points]\n",
        "\n",
        "Another interesting thing to explore is which baby name can claim to be the \"reigning champion\" name for the longest stretch of time.\n",
        "\n",
        "Each year, there is typically only one female and one male name that can claim to be the \"most popular.\" Find which \"most popular\" male and female names had the longest run and show how many consecutive years they were able to claim the title of \"most popular.\"\n",
        "\n",
        "As with the rest of the assignment, it is best if you can solve this without using a loop, though note that if you have to use a loop and calculate the answer correctly, you can receive up to 50%, i.e., 4 points extra credit."
      ],
      "metadata": {
        "id": "KUXgEQx2yE-9"
      }
    },
    {
      "cell_type": "markdown",
      "source": [
        "## To Submit\n",
        "Download the notebook from Colab as a `.ipynb` notebook (`File > Download > Download .ipynb`) and upload it to the corresponding Gradescope assignment."
      ],
      "metadata": {
        "id": "JxjRaHSUIkGS"
      }
    }
  ]
}